{
 "cells": [
  {
   "cell_type": "markdown",
   "id": "cddd07c2-c56c-4ee7-a508-37b486760e4a",
   "metadata": {},
   "source": [
    "# Keep in mind\n",
    "## Automated Hyperparameter Tuning: \n",
    "While Grid Search and Random Search are good starting points, exploring automated methods like Hyperopt, Optuna, or the hyperparameter tuning functionalities within libraries like XGBoost could be beneficial."
   ]
  },
  {
   "cell_type": "code",
   "execution_count": 1,
   "id": "40f98ab6-5be7-4c4f-b00f-6c03aa31cf54",
   "metadata": {},
   "outputs": [],
   "source": [
    "import os\n",
    "import sys\n",
    "import pandas as pd\n",
    "import numpy as np\n",
    "\n",
    "#Due to imbalance we are going to use stratified Kfold\n",
    "from sklearn.model_selection import StratifiedKFold\n",
    "from sklearn.linear_model import LogisticRegression\n",
    "from sklearn.ensemble import RandomForestClassifier\n",
    "from sklearn.metrics import accuracy_score\n",
    "\n",
    "from xgboost import XGBClassifier\n",
    "\n",
    "from joblib import dump\n",
    "import warnings\n",
    "warnings.filterwarnings('ignore')"
   ]
  },
  {
   "cell_type": "code",
   "execution_count": 2,
   "id": "61e41970-f058-4005-ab0e-ad7ed583723e",
   "metadata": {},
   "outputs": [
    {
     "name": "stdout",
     "output_type": "stream",
     "text": [
      "/Users/aboubakr/ML-100-Projects/beginner/p2_TitanicSurvival\n",
      "/Users/aboubakr/ML-100-Projects/beginner/p2_TitanicSurvival\n"
     ]
    }
   ],
   "source": [
    "#%% Set project directory\n",
    "current_dir = os.getcwd()\n",
    "project_root = os.path.abspath(os.path.join(current_dir, '..'))\n",
    "print(project_root)\n",
    "sys.path.append(os.path.abspath(project_root))\n",
    "from utils import load_config, dump_json\n",
    "from scripts.Processing import preprocessing"
   ]
  },
  {
   "cell_type": "code",
   "execution_count": 3,
   "id": "a23904aa-00ff-4060-80ef-4a032e766245",
   "metadata": {},
   "outputs": [
    {
     "data": {
      "text/plain": [
       "'/Users/aboubakr/ML-100-Projects/beginner/p2_TitanicSurvival/data/train.csv'"
      ]
     },
     "execution_count": 3,
     "metadata": {},
     "output_type": "execute_result"
    }
   ],
   "source": [
    "#%% Fetch configs paths\n",
    "config_path = os.path.join(project_root, 'config.json')\n",
    "config = load_config(config_path)\n",
    "train_path = os.path.join(project_root, config[\"train_path\"])\n",
    "train_path"
   ]
  },
  {
   "cell_type": "code",
   "execution_count": 4,
   "id": "1c9f6ad0-9f57-4b70-b947-188b326fc029",
   "metadata": {},
   "outputs": [],
   "source": [
    "titanic = pd.read_csv(train_path)"
   ]
  },
  {
   "cell_type": "code",
   "execution_count": 5,
   "id": "8d028926-4213-43e3-8762-a60b54ce8f1a",
   "metadata": {},
   "outputs": [
    {
     "data": {
      "text/html": [
       "<div>\n",
       "<style scoped>\n",
       "    .dataframe tbody tr th:only-of-type {\n",
       "        vertical-align: middle;\n",
       "    }\n",
       "\n",
       "    .dataframe tbody tr th {\n",
       "        vertical-align: top;\n",
       "    }\n",
       "\n",
       "    .dataframe thead th {\n",
       "        text-align: right;\n",
       "    }\n",
       "</style>\n",
       "<table border=\"1\" class=\"dataframe\">\n",
       "  <thead>\n",
       "    <tr style=\"text-align: right;\">\n",
       "      <th></th>\n",
       "      <th>PassengerId</th>\n",
       "      <th>Survived</th>\n",
       "      <th>Pclass</th>\n",
       "      <th>Name</th>\n",
       "      <th>Sex</th>\n",
       "      <th>Age</th>\n",
       "      <th>SibSp</th>\n",
       "      <th>Parch</th>\n",
       "      <th>Ticket</th>\n",
       "      <th>Fare</th>\n",
       "      <th>Cabin</th>\n",
       "      <th>Embarked</th>\n",
       "    </tr>\n",
       "  </thead>\n",
       "  <tbody>\n",
       "    <tr>\n",
       "      <th>0</th>\n",
       "      <td>1</td>\n",
       "      <td>0</td>\n",
       "      <td>3</td>\n",
       "      <td>Braund, Mr. Owen Harris</td>\n",
       "      <td>male</td>\n",
       "      <td>22.0</td>\n",
       "      <td>1</td>\n",
       "      <td>0</td>\n",
       "      <td>A/5 21171</td>\n",
       "      <td>7.2500</td>\n",
       "      <td>NaN</td>\n",
       "      <td>S</td>\n",
       "    </tr>\n",
       "    <tr>\n",
       "      <th>1</th>\n",
       "      <td>2</td>\n",
       "      <td>1</td>\n",
       "      <td>1</td>\n",
       "      <td>Cumings, Mrs. John Bradley (Florence Briggs Th...</td>\n",
       "      <td>female</td>\n",
       "      <td>38.0</td>\n",
       "      <td>1</td>\n",
       "      <td>0</td>\n",
       "      <td>PC 17599</td>\n",
       "      <td>71.2833</td>\n",
       "      <td>C85</td>\n",
       "      <td>C</td>\n",
       "    </tr>\n",
       "    <tr>\n",
       "      <th>2</th>\n",
       "      <td>3</td>\n",
       "      <td>1</td>\n",
       "      <td>3</td>\n",
       "      <td>Heikkinen, Miss. Laina</td>\n",
       "      <td>female</td>\n",
       "      <td>26.0</td>\n",
       "      <td>0</td>\n",
       "      <td>0</td>\n",
       "      <td>STON/O2. 3101282</td>\n",
       "      <td>7.9250</td>\n",
       "      <td>NaN</td>\n",
       "      <td>S</td>\n",
       "    </tr>\n",
       "    <tr>\n",
       "      <th>3</th>\n",
       "      <td>4</td>\n",
       "      <td>1</td>\n",
       "      <td>1</td>\n",
       "      <td>Futrelle, Mrs. Jacques Heath (Lily May Peel)</td>\n",
       "      <td>female</td>\n",
       "      <td>35.0</td>\n",
       "      <td>1</td>\n",
       "      <td>0</td>\n",
       "      <td>113803</td>\n",
       "      <td>53.1000</td>\n",
       "      <td>C123</td>\n",
       "      <td>S</td>\n",
       "    </tr>\n",
       "    <tr>\n",
       "      <th>4</th>\n",
       "      <td>5</td>\n",
       "      <td>0</td>\n",
       "      <td>3</td>\n",
       "      <td>Allen, Mr. William Henry</td>\n",
       "      <td>male</td>\n",
       "      <td>35.0</td>\n",
       "      <td>0</td>\n",
       "      <td>0</td>\n",
       "      <td>373450</td>\n",
       "      <td>8.0500</td>\n",
       "      <td>NaN</td>\n",
       "      <td>S</td>\n",
       "    </tr>\n",
       "    <tr>\n",
       "      <th>5</th>\n",
       "      <td>6</td>\n",
       "      <td>0</td>\n",
       "      <td>3</td>\n",
       "      <td>Moran, Mr. James</td>\n",
       "      <td>male</td>\n",
       "      <td>NaN</td>\n",
       "      <td>0</td>\n",
       "      <td>0</td>\n",
       "      <td>330877</td>\n",
       "      <td>8.4583</td>\n",
       "      <td>NaN</td>\n",
       "      <td>Q</td>\n",
       "    </tr>\n",
       "    <tr>\n",
       "      <th>6</th>\n",
       "      <td>7</td>\n",
       "      <td>0</td>\n",
       "      <td>1</td>\n",
       "      <td>McCarthy, Mr. Timothy J</td>\n",
       "      <td>male</td>\n",
       "      <td>54.0</td>\n",
       "      <td>0</td>\n",
       "      <td>0</td>\n",
       "      <td>17463</td>\n",
       "      <td>51.8625</td>\n",
       "      <td>E46</td>\n",
       "      <td>S</td>\n",
       "    </tr>\n",
       "    <tr>\n",
       "      <th>7</th>\n",
       "      <td>8</td>\n",
       "      <td>0</td>\n",
       "      <td>3</td>\n",
       "      <td>Palsson, Master. Gosta Leonard</td>\n",
       "      <td>male</td>\n",
       "      <td>2.0</td>\n",
       "      <td>3</td>\n",
       "      <td>1</td>\n",
       "      <td>349909</td>\n",
       "      <td>21.0750</td>\n",
       "      <td>NaN</td>\n",
       "      <td>S</td>\n",
       "    </tr>\n",
       "    <tr>\n",
       "      <th>8</th>\n",
       "      <td>9</td>\n",
       "      <td>1</td>\n",
       "      <td>3</td>\n",
       "      <td>Johnson, Mrs. Oscar W (Elisabeth Vilhelmina Berg)</td>\n",
       "      <td>female</td>\n",
       "      <td>27.0</td>\n",
       "      <td>0</td>\n",
       "      <td>2</td>\n",
       "      <td>347742</td>\n",
       "      <td>11.1333</td>\n",
       "      <td>NaN</td>\n",
       "      <td>S</td>\n",
       "    </tr>\n",
       "    <tr>\n",
       "      <th>9</th>\n",
       "      <td>10</td>\n",
       "      <td>1</td>\n",
       "      <td>2</td>\n",
       "      <td>Nasser, Mrs. Nicholas (Adele Achem)</td>\n",
       "      <td>female</td>\n",
       "      <td>14.0</td>\n",
       "      <td>1</td>\n",
       "      <td>0</td>\n",
       "      <td>237736</td>\n",
       "      <td>30.0708</td>\n",
       "      <td>NaN</td>\n",
       "      <td>C</td>\n",
       "    </tr>\n",
       "  </tbody>\n",
       "</table>\n",
       "</div>"
      ],
      "text/plain": [
       "   PassengerId  Survived  Pclass  \\\n",
       "0            1         0       3   \n",
       "1            2         1       1   \n",
       "2            3         1       3   \n",
       "3            4         1       1   \n",
       "4            5         0       3   \n",
       "5            6         0       3   \n",
       "6            7         0       1   \n",
       "7            8         0       3   \n",
       "8            9         1       3   \n",
       "9           10         1       2   \n",
       "\n",
       "                                                Name     Sex   Age  SibSp  \\\n",
       "0                            Braund, Mr. Owen Harris    male  22.0      1   \n",
       "1  Cumings, Mrs. John Bradley (Florence Briggs Th...  female  38.0      1   \n",
       "2                             Heikkinen, Miss. Laina  female  26.0      0   \n",
       "3       Futrelle, Mrs. Jacques Heath (Lily May Peel)  female  35.0      1   \n",
       "4                           Allen, Mr. William Henry    male  35.0      0   \n",
       "5                                   Moran, Mr. James    male   NaN      0   \n",
       "6                            McCarthy, Mr. Timothy J    male  54.0      0   \n",
       "7                     Palsson, Master. Gosta Leonard    male   2.0      3   \n",
       "8  Johnson, Mrs. Oscar W (Elisabeth Vilhelmina Berg)  female  27.0      0   \n",
       "9                Nasser, Mrs. Nicholas (Adele Achem)  female  14.0      1   \n",
       "\n",
       "   Parch            Ticket     Fare Cabin Embarked  \n",
       "0      0         A/5 21171   7.2500   NaN        S  \n",
       "1      0          PC 17599  71.2833   C85        C  \n",
       "2      0  STON/O2. 3101282   7.9250   NaN        S  \n",
       "3      0            113803  53.1000  C123        S  \n",
       "4      0            373450   8.0500   NaN        S  \n",
       "5      0            330877   8.4583   NaN        Q  \n",
       "6      0             17463  51.8625   E46        S  \n",
       "7      1            349909  21.0750   NaN        S  \n",
       "8      2            347742  11.1333   NaN        S  \n",
       "9      0            237736  30.0708   NaN        C  "
      ]
     },
     "execution_count": 5,
     "metadata": {},
     "output_type": "execute_result"
    }
   ],
   "source": [
    "titanic.head(10)"
   ]
  },
  {
   "cell_type": "code",
   "execution_count": 6,
   "id": "0c73032a-36ed-49d3-8bf7-20bba1dbde81",
   "metadata": {},
   "outputs": [],
   "source": [
    "X,y = preprocessing(titanic, train=True)"
   ]
  },
  {
   "cell_type": "code",
   "execution_count": 7,
   "id": "840207d4-4ca8-4cd8-bc67-5523e63534bf",
   "metadata": {},
   "outputs": [
    {
     "data": {
      "text/html": [
       "<div>\n",
       "<style scoped>\n",
       "    .dataframe tbody tr th:only-of-type {\n",
       "        vertical-align: middle;\n",
       "    }\n",
       "\n",
       "    .dataframe tbody tr th {\n",
       "        vertical-align: top;\n",
       "    }\n",
       "\n",
       "    .dataframe thead th {\n",
       "        text-align: right;\n",
       "    }\n",
       "</style>\n",
       "<table border=\"1\" class=\"dataframe\">\n",
       "  <thead>\n",
       "    <tr style=\"text-align: right;\">\n",
       "      <th></th>\n",
       "      <th>Pclass</th>\n",
       "      <th>Sex</th>\n",
       "      <th>Age</th>\n",
       "      <th>SibSp</th>\n",
       "      <th>Parch</th>\n",
       "      <th>Fare</th>\n",
       "      <th>Embarked</th>\n",
       "      <th>Title</th>\n",
       "      <th>Age^2</th>\n",
       "      <th>Age Fare</th>\n",
       "      <th>Fare^2</th>\n",
       "      <th>Pclass_Fare</th>\n",
       "      <th>Log_fare</th>\n",
       "      <th>FamilySize</th>\n",
       "    </tr>\n",
       "  </thead>\n",
       "  <tbody>\n",
       "    <tr>\n",
       "      <th>0</th>\n",
       "      <td>0.827377</td>\n",
       "      <td>True</td>\n",
       "      <td>-0.592481</td>\n",
       "      <td>0</td>\n",
       "      <td>0</td>\n",
       "      <td>-0.502445</td>\n",
       "      <td>2</td>\n",
       "      <td>2</td>\n",
       "      <td>-0.636573</td>\n",
       "      <td>-0.474875</td>\n",
       "      <td>-0.199305</td>\n",
       "      <td>-0.577965</td>\n",
       "      <td>-0.879741</td>\n",
       "      <td>0.059160</td>\n",
       "    </tr>\n",
       "    <tr>\n",
       "      <th>1</th>\n",
       "      <td>-1.566107</td>\n",
       "      <td>False</td>\n",
       "      <td>0.638789</td>\n",
       "      <td>0</td>\n",
       "      <td>0</td>\n",
       "      <td>0.786845</td>\n",
       "      <td>0</td>\n",
       "      <td>3</td>\n",
       "      <td>0.441412</td>\n",
       "      <td>0.939304</td>\n",
       "      <td>0.091101</td>\n",
       "      <td>0.382936</td>\n",
       "      <td>1.361220</td>\n",
       "      <td>0.059160</td>\n",
       "    </tr>\n",
       "    <tr>\n",
       "      <th>2</th>\n",
       "      <td>0.827377</td>\n",
       "      <td>False</td>\n",
       "      <td>-0.284663</td>\n",
       "      <td>2</td>\n",
       "      <td>0</td>\n",
       "      <td>-0.488854</td>\n",
       "      <td>2</td>\n",
       "      <td>1</td>\n",
       "      <td>-0.420976</td>\n",
       "      <td>-0.449052</td>\n",
       "      <td>-0.198713</td>\n",
       "      <td>-0.538682</td>\n",
       "      <td>-0.798540</td>\n",
       "      <td>-0.560975</td>\n",
       "    </tr>\n",
       "    <tr>\n",
       "      <th>3</th>\n",
       "      <td>-1.566107</td>\n",
       "      <td>False</td>\n",
       "      <td>0.407926</td>\n",
       "      <td>0</td>\n",
       "      <td>0</td>\n",
       "      <td>0.420730</td>\n",
       "      <td>2</td>\n",
       "      <td>3</td>\n",
       "      <td>0.195497</td>\n",
       "      <td>0.467628</td>\n",
       "      <td>-0.039510</td>\n",
       "      <td>0.030196</td>\n",
       "      <td>1.062038</td>\n",
       "      <td>0.059160</td>\n",
       "    </tr>\n",
       "    <tr>\n",
       "      <th>4</th>\n",
       "      <td>0.827377</td>\n",
       "      <td>True</td>\n",
       "      <td>0.407926</td>\n",
       "      <td>2</td>\n",
       "      <td>0</td>\n",
       "      <td>-0.486337</td>\n",
       "      <td>2</td>\n",
       "      <td>2</td>\n",
       "      <td>0.195497</td>\n",
       "      <td>-0.407058</td>\n",
       "      <td>-0.198598</td>\n",
       "      <td>-0.531407</td>\n",
       "      <td>-0.784179</td>\n",
       "      <td>-0.560975</td>\n",
       "    </tr>\n",
       "  </tbody>\n",
       "</table>\n",
       "</div>"
      ],
      "text/plain": [
       "     Pclass    Sex       Age  SibSp  Parch      Fare  Embarked  Title  \\\n",
       "0  0.827377   True -0.592481      0      0 -0.502445         2      2   \n",
       "1 -1.566107  False  0.638789      0      0  0.786845         0      3   \n",
       "2  0.827377  False -0.284663      2      0 -0.488854         2      1   \n",
       "3 -1.566107  False  0.407926      0      0  0.420730         2      3   \n",
       "4  0.827377   True  0.407926      2      0 -0.486337         2      2   \n",
       "\n",
       "      Age^2  Age Fare    Fare^2  Pclass_Fare  Log_fare  FamilySize  \n",
       "0 -0.636573 -0.474875 -0.199305    -0.577965 -0.879741    0.059160  \n",
       "1  0.441412  0.939304  0.091101     0.382936  1.361220    0.059160  \n",
       "2 -0.420976 -0.449052 -0.198713    -0.538682 -0.798540   -0.560975  \n",
       "3  0.195497  0.467628 -0.039510     0.030196  1.062038    0.059160  \n",
       "4  0.195497 -0.407058 -0.198598    -0.531407 -0.784179   -0.560975  "
      ]
     },
     "execution_count": 7,
     "metadata": {},
     "output_type": "execute_result"
    }
   ],
   "source": [
    "X.head()"
   ]
  },
  {
   "cell_type": "code",
   "execution_count": 8,
   "id": "cc64f93e",
   "metadata": {},
   "outputs": [
    {
     "data": {
      "text/plain": [
       "Survived\n",
       "0    0.616162\n",
       "1    0.383838\n",
       "Name: proportion, dtype: float64"
      ]
     },
     "execution_count": 8,
     "metadata": {},
     "output_type": "execute_result"
    }
   ],
   "source": [
    "y.value_counts(normalize=True)"
   ]
  },
  {
   "cell_type": "code",
   "execution_count": 9,
   "id": "d86bb3e2-8b84-4504-88bb-d78c123d3651",
   "metadata": {},
   "outputs": [],
   "source": [
    "## Now Let's train some stuffs\n",
    "#from sklearn.model_selection import cross_val_score\n",
    "#scores = cross_val_score(lr, X, Y, cv=5)\n",
    "#print(scores)"
   ]
  },
  {
   "cell_type": "code",
   "execution_count": 10,
   "id": "6ec9d6e1-c7e8-4dcd-94ed-e5f51caf06ae",
   "metadata": {},
   "outputs": [
    {
     "name": "stdout",
     "output_type": "stream",
     "text": [
      "Fold 1:\n",
      "Accuracy Logistic Regression = 0.80\n",
      "Accuracy Random Forest = 0.83\n",
      "Accuracy XGBoost = 0.84\n",
      "----------\n",
      "Fold 2:\n",
      "Accuracy Logistic Regression = 0.82\n",
      "Accuracy Random Forest = 0.85\n",
      "Accuracy XGBoost = 0.81\n",
      "----------\n",
      "Fold 3:\n",
      "Accuracy Logistic Regression = 0.80\n",
      "Accuracy Random Forest = 0.80\n",
      "Accuracy XGBoost = 0.80\n",
      "----------\n",
      "Fold 4:\n",
      "Accuracy Logistic Regression = 0.79\n",
      "Accuracy Random Forest = 0.80\n",
      "Accuracy XGBoost = 0.80\n",
      "----------\n",
      "Fold 5:\n",
      "Accuracy Logistic Regression = 0.82\n",
      "Accuracy Random Forest = 0.84\n",
      "Accuracy XGBoost = 0.82\n",
      "----------Average Accuracy----------\n",
      "Mean Accuracy Logistic Regression: 0.81\n",
      "Mean Accuracy Random Forest: 0.83\n",
      "Mean Accuracy XGBoost: 0.81\n"
     ]
    }
   ],
   "source": [
    "# Initialize Logistic Regression model\n",
    "lr = LogisticRegression()\n",
    "rf = RandomForestClassifier(criterion = 'entropy', class_weight = {0:0.61, 1:0.39})\n",
    "xgb = XGBClassifier()\n",
    "\n",
    "# Initialize Stratified K-Fold with 5 splits\n",
    "n_splits = 5\n",
    "skf = StratifiedKFold(n_splits=n_splits, shuffle=True, random_state=42)\n",
    "\n",
    "# List to store the accuracy scores for each fold\n",
    "accuracy_scores_lr = []\n",
    "accuracy_scores_rf = []\n",
    "accuracy_scores_xgb = []\n",
    "\n",
    "# Perform Stratified K-Fold Cross-Validation\n",
    "for train_index, test_index in skf.split(X, y):\n",
    "    X_train, X_test = X.iloc[train_index], X.iloc[test_index]\n",
    "    y_train, y_test = y.iloc[train_index], y.iloc[test_index]\n",
    "    # Train the model\n",
    "    lr.fit(X_train, y_train)\n",
    "    rf.fit(X_train, y_train)\n",
    "    xgb.fit(X_train, y_train)\n",
    "\n",
    "    # Make predictions\n",
    "    y_pred_lr = lr.predict(X_test)\n",
    "    y_pred_rf = rf.predict(X_test)\n",
    "    y_pred_xgb = xgb.predict(X_test)\n",
    "    \n",
    "    # Calculate accuracy for the current fold\n",
    "    accuracy_lr = accuracy_score(y_test, y_pred_lr)\n",
    "    accuracy_rf = accuracy_score(y_test, y_pred_rf)\n",
    "    accuracy_xgb = accuracy_score(y_test, y_pred_xgb)\n",
    "\n",
    "    accuracy_scores_lr.append(accuracy_lr)\n",
    "    accuracy_scores_rf.append(accuracy_rf)\n",
    "    accuracy_scores_xgb.append(accuracy_xgb)\n",
    "# Print accuracy for each fold\n",
    "for i in range(n_splits):\n",
    "    print(f\"Fold {i+1}:\")\n",
    "    print(f\"Accuracy Logistic Regression = {accuracy_scores_lr[i]:.2f}\")\n",
    "    print(f\"Accuracy Random Forest = {accuracy_scores_rf[i]:.2f}\")\n",
    "    print(f\"Accuracy XGBoost = {accuracy_scores_xgb[i]:.2f}\")\n",
    "    if i < 4 : print(\"-\"*10)\n",
    "\n",
    "# Print mean accuracy across all folds\n",
    "print(\"-\"*10 + \"Average Accuracy\" + '-'*10)\n",
    "print(f\"Mean Accuracy Logistic Regression: {np.mean(accuracy_scores_lr):.2f}\")\n",
    "print(f\"Mean Accuracy Random Forest: {np.mean(accuracy_scores_rf):.2f}\")\n",
    "print(f\"Mean Accuracy XGBoost: {np.mean(accuracy_scores_xgb):.2f}\")"
   ]
  },
  {
   "cell_type": "code",
   "execution_count": 11,
   "id": "9e4cb9c4",
   "metadata": {},
   "outputs": [
    {
     "name": "stderr",
     "output_type": "stream",
     "text": [
      "[I 2024-09-08 23:28:21,212] A new study created in memory with name: no-name-6f018506-687a-447a-bb35-7a742713e2c7\n",
      "[I 2024-09-08 23:28:21,549] Trial 0 finished with value: 0.8148389931579938 and parameters: {'n_estimators': 500, 'max_depth': 3, 'learning_rate': 0.28458896400564015, 'subsample': 0.5557708763026865, 'colsample_bytree': 0.685662004933344, 'gamma': 0.626451251596572, 'reg_alpha': 9.565393742189913, 'reg_lambda': 9.886389167803042}. Best is trial 0 with value: 0.8148389931579938.\n",
      "[I 2024-09-08 23:28:21,807] Trial 1 finished with value: 0.8114744837110036 and parameters: {'n_estimators': 400, 'max_depth': 10, 'learning_rate': 0.06393703753078255, 'subsample': 0.6558507468100343, 'colsample_bytree': 0.6651415345943776, 'gamma': 1.4505414741226934, 'reg_alpha': 4.519401867411126, 'reg_lambda': 9.021015415617732}. Best is trial 0 with value: 0.8148389931579938.\n",
      "[I 2024-09-08 23:28:21,949] Trial 2 finished with value: 0.7980101688531793 and parameters: {'n_estimators': 100, 'max_depth': 6, 'learning_rate': 0.018558201991717243, 'subsample': 0.6263463938492272, 'colsample_bytree': 0.9351456349119424, 'gamma': 1.5032181898325887, 'reg_alpha': 9.72129711095148, 'reg_lambda': 2.7851432455380087}. Best is trial 0 with value: 0.8148389931579938.\n",
      "[I 2024-09-08 23:28:22,463] Trial 3 finished with value: 0.8271734354403364 and parameters: {'n_estimators': 1000, 'max_depth': 4, 'learning_rate': 0.21799488009308923, 'subsample': 0.6061890521944503, 'colsample_bytree': 0.5813325363060671, 'gamma': 1.191485678356143, 'reg_alpha': 2.9205667160182514, 'reg_lambda': 0.08329403859276496}. Best is trial 3 with value: 0.8271734354403364.\n",
      "[I 2024-09-08 23:28:22,954] Trial 4 finished with value: 0.8182035026049839 and parameters: {'n_estimators': 500, 'max_depth': 3, 'learning_rate': 0.012680979405481463, 'subsample': 0.899026572387957, 'colsample_bytree': 0.8471758416830213, 'gamma': 0.19370075885381977, 'reg_alpha': 7.324448405468786, 'reg_lambda': 1.7572462824454405}. Best is trial 3 with value: 0.8271734354403364.\n",
      "[I 2024-09-08 23:28:23,516] Trial 5 finished with value: 0.830525390747599 and parameters: {'n_estimators': 1000, 'max_depth': 7, 'learning_rate': 0.17339672091537922, 'subsample': 0.9171800774799217, 'colsample_bytree': 0.7734878446103506, 'gamma': 3.94309719342007, 'reg_alpha': 0.05531860931238475, 'reg_lambda': 7.073201036805696}. Best is trial 5 with value: 0.830525390747599.\n",
      "[I 2024-09-08 23:28:23,653] Trial 6 finished with value: 0.8070114870378507 and parameters: {'n_estimators': 250, 'max_depth': 10, 'learning_rate': 0.20979459479550194, 'subsample': 0.704428002218531, 'colsample_bytree': 0.5952812731847296, 'gamma': 0.996635214056002, 'reg_alpha': 6.619976403849042, 'reg_lambda': 2.862361084797307}. Best is trial 5 with value: 0.830525390747599.\n",
      "[I 2024-09-08 23:28:23,895] Trial 7 finished with value: 0.8204318624066286 and parameters: {'n_estimators': 600, 'max_depth': 10, 'learning_rate': 0.22083554728054428, 'subsample': 0.9162484751806097, 'colsample_bytree': 0.5160541860257511, 'gamma': 2.061147851209112, 'reg_alpha': 0.5850143194415891, 'reg_lambda': 6.00357472851141}. Best is trial 5 with value: 0.830525390747599.\n",
      "[I 2024-09-08 23:28:24,247] Trial 8 finished with value: 0.8294269035214361 and parameters: {'n_estimators': 650, 'max_depth': 4, 'learning_rate': 0.1367737205657947, 'subsample': 0.7172303738760772, 'colsample_bytree': 0.9788367786716783, 'gamma': 0.622650732576775, 'reg_alpha': 3.3682287373614406, 'reg_lambda': 2.2349855558962126}. Best is trial 5 with value: 0.830525390747599.\n",
      "[I 2024-09-08 23:28:24,969] Trial 9 finished with value: 0.8350134957002071 and parameters: {'n_estimators': 800, 'max_depth': 4, 'learning_rate': 0.12614942033795007, 'subsample': 0.5522715636181271, 'colsample_bytree': 0.7103451508534306, 'gamma': 0.3161442306930229, 'reg_alpha': 2.6439934793172037, 'reg_lambda': 4.200663493825497}. Best is trial 9 with value: 0.8350134957002071.\n",
      "[I 2024-09-08 23:28:25,355] Trial 10 finished with value: 0.8136965664427844 and parameters: {'n_estimators': 800, 'max_depth': 6, 'learning_rate': 0.10485034733478231, 'subsample': 0.5014106874756689, 'colsample_bytree': 0.8261578436195076, 'gamma': 3.2895889533895533, 'reg_alpha': 2.1012617341672675, 'reg_lambda': 4.6042379804934646}. Best is trial 9 with value: 0.8350134957002071.\n",
      "[I 2024-09-08 23:28:25,750] Trial 11 finished with value: 0.8204130311970372 and parameters: {'n_estimators': 1000, 'max_depth': 8, 'learning_rate': 0.1631183141276612, 'subsample': 0.8178204914276938, 'colsample_bytree': 0.7694013031215766, 'gamma': 4.984098688249425, 'reg_alpha': 0.008937322103437229, 'reg_lambda': 6.544395463809446}. Best is trial 9 with value: 0.8350134957002071.\n",
      "[I 2024-09-08 23:28:26,078] Trial 12 finished with value: 0.8092335697696316 and parameters: {'n_estimators': 800, 'max_depth': 8, 'learning_rate': 0.16062549230142642, 'subsample': 0.8167718801944539, 'colsample_bytree': 0.7335232325651498, 'gamma': 3.2147892521055508, 'reg_alpha': 1.0696896216244987, 'reg_lambda': 7.9387835506957485}. Best is trial 9 with value: 0.8350134957002071.\n",
      "[I 2024-09-08 23:28:26,449] Trial 13 finished with value: 0.8080785889146946 and parameters: {'n_estimators': 850, 'max_depth': 7, 'learning_rate': 0.11305039324322409, 'subsample': 0.9698391939373281, 'colsample_bytree': 0.8518955743252706, 'gamma': 4.772494738886143, 'reg_alpha': 1.7559353357363836, 'reg_lambda': 4.506066606011048}. Best is trial 9 with value: 0.8350134957002071.\n",
      "[I 2024-09-08 23:28:26,818] Trial 14 finished with value: 0.8069675475488042 and parameters: {'n_estimators': 900, 'max_depth': 5, 'learning_rate': 0.06936470661822343, 'subsample': 0.8032864904964553, 'colsample_bytree': 0.7618405178574033, 'gamma': 3.926351302821135, 'reg_alpha': 4.185728589767769, 'reg_lambda': 7.07956954686883}. Best is trial 9 with value: 0.8350134957002071.\n",
      "[I 2024-09-08 23:28:27,213] Trial 15 finished with value: 0.8047454648170234 and parameters: {'n_estimators': 750, 'max_depth': 8, 'learning_rate': 0.18629207468416575, 'subsample': 0.9686687728517878, 'colsample_bytree': 0.6642352194487701, 'gamma': 2.460706755271775, 'reg_alpha': 6.161034852493477, 'reg_lambda': 5.377139537264893}. Best is trial 9 with value: 0.8350134957002071.\n",
      "[I 2024-09-08 23:28:27,507] Trial 16 finished with value: 0.8125855250768941 and parameters: {'n_estimators': 700, 'max_depth': 5, 'learning_rate': 0.26755025364321916, 'subsample': 0.8806367777113426, 'colsample_bytree': 0.8906312581126278, 'gamma': 4.103747748548185, 'reg_alpha': 2.3622108457638804, 'reg_lambda': 7.752992780581417}. Best is trial 9 with value: 0.8350134957002071.\n",
      "[I 2024-09-08 23:28:27,901] Trial 17 finished with value: 0.8193333751804659 and parameters: {'n_estimators': 950, 'max_depth': 7, 'learning_rate': 0.24910873651680998, 'subsample': 0.7757296202956736, 'colsample_bytree': 0.7253454936160519, 'gamma': 3.0589744579156184, 'reg_alpha': 1.1357094620771195, 'reg_lambda': 3.892954811058079}. Best is trial 9 with value: 0.8350134957002071.\n",
      "[I 2024-09-08 23:28:28,310] Trial 18 finished with value: 0.8114870378507313 and parameters: {'n_estimators': 900, 'max_depth': 5, 'learning_rate': 0.12227379252524524, 'subsample': 0.5203575083280612, 'colsample_bytree': 0.8036536105461229, 'gamma': 2.082236820228744, 'reg_alpha': 3.579690514003558, 'reg_lambda': 5.639504320769246}. Best is trial 9 with value: 0.8350134957002071.\n",
      "[I 2024-09-08 23:28:28,636] Trial 19 finished with value: 0.8069549934090766 and parameters: {'n_estimators': 700, 'max_depth': 9, 'learning_rate': 0.0863361860258265, 'subsample': 0.9986344515028678, 'colsample_bytree': 0.6172944446254534, 'gamma': 3.9380978329744085, 'reg_alpha': 5.347448517118869, 'reg_lambda': 3.8150582428135804}. Best is trial 9 with value: 0.8350134957002071.\n",
      "[I 2024-09-08 23:28:28,863] Trial 20 finished with value: 0.8215617349821104 and parameters: {'n_estimators': 400, 'max_depth': 4, 'learning_rate': 0.18660583804695222, 'subsample': 0.8510375538792552, 'colsample_bytree': 0.5161741487984259, 'gamma': 4.440294296891654, 'reg_alpha': 0.1762336210086235, 'reg_lambda': 0.7078341928133147}. Best is trial 9 with value: 0.8350134957002071.\n",
      "[I 2024-09-08 23:28:29,337] Trial 21 finished with value: 0.8339024543343168 and parameters: {'n_estimators': 600, 'max_depth': 4, 'learning_rate': 0.14249812211949392, 'subsample': 0.6987600265793584, 'colsample_bytree': 0.9946657514229171, 'gamma': 0.24127967140082768, 'reg_alpha': 3.232613733073571, 'reg_lambda': 2.1747809028185605}. Best is trial 9 with value: 0.8350134957002071.\n",
      "[I 2024-09-08 23:28:31,275] Trial 22 finished with value: 0.8327600276191074 and parameters: {'n_estimators': 600, 'max_depth': 6, 'learning_rate': 0.1393009864937754, 'subsample': 0.6810148810245856, 'colsample_bytree': 0.9822455342451437, 'gamma': 0.04529906288751523, 'reg_alpha': 2.5446640503197338, 'reg_lambda': 1.6102047297180526}. Best is trial 9 with value: 0.8350134957002071.\n",
      "[I 2024-09-08 23:28:32,474] Trial 23 finished with value: 0.8305191136777352 and parameters: {'n_estimators': 550, 'max_depth': 3, 'learning_rate': 0.1395595702012739, 'subsample': 0.6787232944874562, 'colsample_bytree': 0.9889124472538497, 'gamma': 0.05382976764911418, 'reg_alpha': 2.708016030941802, 'reg_lambda': 1.7613866290228017}. Best is trial 9 with value: 0.8350134957002071.\n",
      "[I 2024-09-08 23:28:32,976] Trial 24 finished with value: 0.8215554579122466 and parameters: {'n_estimators': 400, 'max_depth': 4, 'learning_rate': 0.04360000852461382, 'subsample': 0.5734774047303972, 'colsample_bytree': 0.9169441355647225, 'gamma': 0.5496838583166441, 'reg_alpha': 3.704448379790876, 'reg_lambda': 0.839888968131925}. Best is trial 9 with value: 0.8350134957002071.\n"
     ]
    },
    {
     "name": "stdout",
     "output_type": "stream",
     "text": [
      "Best parameters: {'n_estimators': 800, 'max_depth': 4, 'learning_rate': 0.12614942033795007, 'subsample': 0.5522715636181271, 'colsample_bytree': 0.7103451508534306, 'gamma': 0.3161442306930229, 'reg_alpha': 2.6439934793172037, 'reg_lambda': 4.200663493825497}\n",
      "Best accuracy: 0.8350134957002071\n"
     ]
    },
    {
     "data": {
      "application/vnd.plotly.v1+json": {
       "config": {
        "plotlyServerURL": "https://plot.ly"
       },
       "data": [
        {
         "mode": "markers",
         "name": "Objective Value",
         "type": "scatter",
         "x": [
          0,
          1,
          2,
          3,
          4,
          5,
          6,
          7,
          8,
          9,
          10,
          11,
          12,
          13,
          14,
          15,
          16,
          17,
          18,
          19,
          20,
          21,
          22,
          23,
          24
         ],
         "y": [
          0.8148389931579938,
          0.8114744837110036,
          0.7980101688531793,
          0.8271734354403364,
          0.8182035026049839,
          0.830525390747599,
          0.8070114870378507,
          0.8204318624066286,
          0.8294269035214361,
          0.8350134957002071,
          0.8136965664427844,
          0.8204130311970372,
          0.8092335697696316,
          0.8080785889146946,
          0.8069675475488042,
          0.8047454648170234,
          0.8125855250768941,
          0.8193333751804659,
          0.8114870378507313,
          0.8069549934090766,
          0.8215617349821104,
          0.8339024543343168,
          0.8327600276191074,
          0.8305191136777352,
          0.8215554579122466
         ]
        },
        {
         "mode": "lines",
         "name": "Best Value",
         "type": "scatter",
         "x": [
          0,
          1,
          2,
          3,
          4,
          5,
          6,
          7,
          8,
          9,
          10,
          11,
          12,
          13,
          14,
          15,
          16,
          17,
          18,
          19,
          20,
          21,
          22,
          23,
          24
         ],
         "y": [
          0.8148389931579938,
          0.8148389931579938,
          0.8148389931579938,
          0.8271734354403364,
          0.8271734354403364,
          0.830525390747599,
          0.830525390747599,
          0.830525390747599,
          0.830525390747599,
          0.8350134957002071,
          0.8350134957002071,
          0.8350134957002071,
          0.8350134957002071,
          0.8350134957002071,
          0.8350134957002071,
          0.8350134957002071,
          0.8350134957002071,
          0.8350134957002071,
          0.8350134957002071,
          0.8350134957002071,
          0.8350134957002071,
          0.8350134957002071,
          0.8350134957002071,
          0.8350134957002071,
          0.8350134957002071
         ]
        },
        {
         "marker": {
          "color": "#cccccc"
         },
         "mode": "markers",
         "name": "Infeasible Trial",
         "showlegend": false,
         "type": "scatter",
         "x": [],
         "y": []
        }
       ],
       "layout": {
        "template": {
         "data": {
          "bar": [
           {
            "error_x": {
             "color": "#2a3f5f"
            },
            "error_y": {
             "color": "#2a3f5f"
            },
            "marker": {
             "line": {
              "color": "#E5ECF6",
              "width": 0.5
             },
             "pattern": {
              "fillmode": "overlay",
              "size": 10,
              "solidity": 0.2
             }
            },
            "type": "bar"
           }
          ],
          "barpolar": [
           {
            "marker": {
             "line": {
              "color": "#E5ECF6",
              "width": 0.5
             },
             "pattern": {
              "fillmode": "overlay",
              "size": 10,
              "solidity": 0.2
             }
            },
            "type": "barpolar"
           }
          ],
          "carpet": [
           {
            "aaxis": {
             "endlinecolor": "#2a3f5f",
             "gridcolor": "white",
             "linecolor": "white",
             "minorgridcolor": "white",
             "startlinecolor": "#2a3f5f"
            },
            "baxis": {
             "endlinecolor": "#2a3f5f",
             "gridcolor": "white",
             "linecolor": "white",
             "minorgridcolor": "white",
             "startlinecolor": "#2a3f5f"
            },
            "type": "carpet"
           }
          ],
          "choropleth": [
           {
            "colorbar": {
             "outlinewidth": 0,
             "ticks": ""
            },
            "type": "choropleth"
           }
          ],
          "contour": [
           {
            "colorbar": {
             "outlinewidth": 0,
             "ticks": ""
            },
            "colorscale": [
             [
              0,
              "#0d0887"
             ],
             [
              0.1111111111111111,
              "#46039f"
             ],
             [
              0.2222222222222222,
              "#7201a8"
             ],
             [
              0.3333333333333333,
              "#9c179e"
             ],
             [
              0.4444444444444444,
              "#bd3786"
             ],
             [
              0.5555555555555556,
              "#d8576b"
             ],
             [
              0.6666666666666666,
              "#ed7953"
             ],
             [
              0.7777777777777778,
              "#fb9f3a"
             ],
             [
              0.8888888888888888,
              "#fdca26"
             ],
             [
              1,
              "#f0f921"
             ]
            ],
            "type": "contour"
           }
          ],
          "contourcarpet": [
           {
            "colorbar": {
             "outlinewidth": 0,
             "ticks": ""
            },
            "type": "contourcarpet"
           }
          ],
          "heatmap": [
           {
            "colorbar": {
             "outlinewidth": 0,
             "ticks": ""
            },
            "colorscale": [
             [
              0,
              "#0d0887"
             ],
             [
              0.1111111111111111,
              "#46039f"
             ],
             [
              0.2222222222222222,
              "#7201a8"
             ],
             [
              0.3333333333333333,
              "#9c179e"
             ],
             [
              0.4444444444444444,
              "#bd3786"
             ],
             [
              0.5555555555555556,
              "#d8576b"
             ],
             [
              0.6666666666666666,
              "#ed7953"
             ],
             [
              0.7777777777777778,
              "#fb9f3a"
             ],
             [
              0.8888888888888888,
              "#fdca26"
             ],
             [
              1,
              "#f0f921"
             ]
            ],
            "type": "heatmap"
           }
          ],
          "heatmapgl": [
           {
            "colorbar": {
             "outlinewidth": 0,
             "ticks": ""
            },
            "colorscale": [
             [
              0,
              "#0d0887"
             ],
             [
              0.1111111111111111,
              "#46039f"
             ],
             [
              0.2222222222222222,
              "#7201a8"
             ],
             [
              0.3333333333333333,
              "#9c179e"
             ],
             [
              0.4444444444444444,
              "#bd3786"
             ],
             [
              0.5555555555555556,
              "#d8576b"
             ],
             [
              0.6666666666666666,
              "#ed7953"
             ],
             [
              0.7777777777777778,
              "#fb9f3a"
             ],
             [
              0.8888888888888888,
              "#fdca26"
             ],
             [
              1,
              "#f0f921"
             ]
            ],
            "type": "heatmapgl"
           }
          ],
          "histogram": [
           {
            "marker": {
             "pattern": {
              "fillmode": "overlay",
              "size": 10,
              "solidity": 0.2
             }
            },
            "type": "histogram"
           }
          ],
          "histogram2d": [
           {
            "colorbar": {
             "outlinewidth": 0,
             "ticks": ""
            },
            "colorscale": [
             [
              0,
              "#0d0887"
             ],
             [
              0.1111111111111111,
              "#46039f"
             ],
             [
              0.2222222222222222,
              "#7201a8"
             ],
             [
              0.3333333333333333,
              "#9c179e"
             ],
             [
              0.4444444444444444,
              "#bd3786"
             ],
             [
              0.5555555555555556,
              "#d8576b"
             ],
             [
              0.6666666666666666,
              "#ed7953"
             ],
             [
              0.7777777777777778,
              "#fb9f3a"
             ],
             [
              0.8888888888888888,
              "#fdca26"
             ],
             [
              1,
              "#f0f921"
             ]
            ],
            "type": "histogram2d"
           }
          ],
          "histogram2dcontour": [
           {
            "colorbar": {
             "outlinewidth": 0,
             "ticks": ""
            },
            "colorscale": [
             [
              0,
              "#0d0887"
             ],
             [
              0.1111111111111111,
              "#46039f"
             ],
             [
              0.2222222222222222,
              "#7201a8"
             ],
             [
              0.3333333333333333,
              "#9c179e"
             ],
             [
              0.4444444444444444,
              "#bd3786"
             ],
             [
              0.5555555555555556,
              "#d8576b"
             ],
             [
              0.6666666666666666,
              "#ed7953"
             ],
             [
              0.7777777777777778,
              "#fb9f3a"
             ],
             [
              0.8888888888888888,
              "#fdca26"
             ],
             [
              1,
              "#f0f921"
             ]
            ],
            "type": "histogram2dcontour"
           }
          ],
          "mesh3d": [
           {
            "colorbar": {
             "outlinewidth": 0,
             "ticks": ""
            },
            "type": "mesh3d"
           }
          ],
          "parcoords": [
           {
            "line": {
             "colorbar": {
              "outlinewidth": 0,
              "ticks": ""
             }
            },
            "type": "parcoords"
           }
          ],
          "pie": [
           {
            "automargin": true,
            "type": "pie"
           }
          ],
          "scatter": [
           {
            "fillpattern": {
             "fillmode": "overlay",
             "size": 10,
             "solidity": 0.2
            },
            "type": "scatter"
           }
          ],
          "scatter3d": [
           {
            "line": {
             "colorbar": {
              "outlinewidth": 0,
              "ticks": ""
             }
            },
            "marker": {
             "colorbar": {
              "outlinewidth": 0,
              "ticks": ""
             }
            },
            "type": "scatter3d"
           }
          ],
          "scattercarpet": [
           {
            "marker": {
             "colorbar": {
              "outlinewidth": 0,
              "ticks": ""
             }
            },
            "type": "scattercarpet"
           }
          ],
          "scattergeo": [
           {
            "marker": {
             "colorbar": {
              "outlinewidth": 0,
              "ticks": ""
             }
            },
            "type": "scattergeo"
           }
          ],
          "scattergl": [
           {
            "marker": {
             "colorbar": {
              "outlinewidth": 0,
              "ticks": ""
             }
            },
            "type": "scattergl"
           }
          ],
          "scattermapbox": [
           {
            "marker": {
             "colorbar": {
              "outlinewidth": 0,
              "ticks": ""
             }
            },
            "type": "scattermapbox"
           }
          ],
          "scatterpolar": [
           {
            "marker": {
             "colorbar": {
              "outlinewidth": 0,
              "ticks": ""
             }
            },
            "type": "scatterpolar"
           }
          ],
          "scatterpolargl": [
           {
            "marker": {
             "colorbar": {
              "outlinewidth": 0,
              "ticks": ""
             }
            },
            "type": "scatterpolargl"
           }
          ],
          "scatterternary": [
           {
            "marker": {
             "colorbar": {
              "outlinewidth": 0,
              "ticks": ""
             }
            },
            "type": "scatterternary"
           }
          ],
          "surface": [
           {
            "colorbar": {
             "outlinewidth": 0,
             "ticks": ""
            },
            "colorscale": [
             [
              0,
              "#0d0887"
             ],
             [
              0.1111111111111111,
              "#46039f"
             ],
             [
              0.2222222222222222,
              "#7201a8"
             ],
             [
              0.3333333333333333,
              "#9c179e"
             ],
             [
              0.4444444444444444,
              "#bd3786"
             ],
             [
              0.5555555555555556,
              "#d8576b"
             ],
             [
              0.6666666666666666,
              "#ed7953"
             ],
             [
              0.7777777777777778,
              "#fb9f3a"
             ],
             [
              0.8888888888888888,
              "#fdca26"
             ],
             [
              1,
              "#f0f921"
             ]
            ],
            "type": "surface"
           }
          ],
          "table": [
           {
            "cells": {
             "fill": {
              "color": "#EBF0F8"
             },
             "line": {
              "color": "white"
             }
            },
            "header": {
             "fill": {
              "color": "#C8D4E3"
             },
             "line": {
              "color": "white"
             }
            },
            "type": "table"
           }
          ]
         },
         "layout": {
          "annotationdefaults": {
           "arrowcolor": "#2a3f5f",
           "arrowhead": 0,
           "arrowwidth": 1
          },
          "autotypenumbers": "strict",
          "coloraxis": {
           "colorbar": {
            "outlinewidth": 0,
            "ticks": ""
           }
          },
          "colorscale": {
           "diverging": [
            [
             0,
             "#8e0152"
            ],
            [
             0.1,
             "#c51b7d"
            ],
            [
             0.2,
             "#de77ae"
            ],
            [
             0.3,
             "#f1b6da"
            ],
            [
             0.4,
             "#fde0ef"
            ],
            [
             0.5,
             "#f7f7f7"
            ],
            [
             0.6,
             "#e6f5d0"
            ],
            [
             0.7,
             "#b8e186"
            ],
            [
             0.8,
             "#7fbc41"
            ],
            [
             0.9,
             "#4d9221"
            ],
            [
             1,
             "#276419"
            ]
           ],
           "sequential": [
            [
             0,
             "#0d0887"
            ],
            [
             0.1111111111111111,
             "#46039f"
            ],
            [
             0.2222222222222222,
             "#7201a8"
            ],
            [
             0.3333333333333333,
             "#9c179e"
            ],
            [
             0.4444444444444444,
             "#bd3786"
            ],
            [
             0.5555555555555556,
             "#d8576b"
            ],
            [
             0.6666666666666666,
             "#ed7953"
            ],
            [
             0.7777777777777778,
             "#fb9f3a"
            ],
            [
             0.8888888888888888,
             "#fdca26"
            ],
            [
             1,
             "#f0f921"
            ]
           ],
           "sequentialminus": [
            [
             0,
             "#0d0887"
            ],
            [
             0.1111111111111111,
             "#46039f"
            ],
            [
             0.2222222222222222,
             "#7201a8"
            ],
            [
             0.3333333333333333,
             "#9c179e"
            ],
            [
             0.4444444444444444,
             "#bd3786"
            ],
            [
             0.5555555555555556,
             "#d8576b"
            ],
            [
             0.6666666666666666,
             "#ed7953"
            ],
            [
             0.7777777777777778,
             "#fb9f3a"
            ],
            [
             0.8888888888888888,
             "#fdca26"
            ],
            [
             1,
             "#f0f921"
            ]
           ]
          },
          "colorway": [
           "#636efa",
           "#EF553B",
           "#00cc96",
           "#ab63fa",
           "#FFA15A",
           "#19d3f3",
           "#FF6692",
           "#B6E880",
           "#FF97FF",
           "#FECB52"
          ],
          "font": {
           "color": "#2a3f5f"
          },
          "geo": {
           "bgcolor": "white",
           "lakecolor": "white",
           "landcolor": "#E5ECF6",
           "showlakes": true,
           "showland": true,
           "subunitcolor": "white"
          },
          "hoverlabel": {
           "align": "left"
          },
          "hovermode": "closest",
          "mapbox": {
           "style": "light"
          },
          "paper_bgcolor": "white",
          "plot_bgcolor": "#E5ECF6",
          "polar": {
           "angularaxis": {
            "gridcolor": "white",
            "linecolor": "white",
            "ticks": ""
           },
           "bgcolor": "#E5ECF6",
           "radialaxis": {
            "gridcolor": "white",
            "linecolor": "white",
            "ticks": ""
           }
          },
          "scene": {
           "xaxis": {
            "backgroundcolor": "#E5ECF6",
            "gridcolor": "white",
            "gridwidth": 2,
            "linecolor": "white",
            "showbackground": true,
            "ticks": "",
            "zerolinecolor": "white"
           },
           "yaxis": {
            "backgroundcolor": "#E5ECF6",
            "gridcolor": "white",
            "gridwidth": 2,
            "linecolor": "white",
            "showbackground": true,
            "ticks": "",
            "zerolinecolor": "white"
           },
           "zaxis": {
            "backgroundcolor": "#E5ECF6",
            "gridcolor": "white",
            "gridwidth": 2,
            "linecolor": "white",
            "showbackground": true,
            "ticks": "",
            "zerolinecolor": "white"
           }
          },
          "shapedefaults": {
           "line": {
            "color": "#2a3f5f"
           }
          },
          "ternary": {
           "aaxis": {
            "gridcolor": "white",
            "linecolor": "white",
            "ticks": ""
           },
           "baxis": {
            "gridcolor": "white",
            "linecolor": "white",
            "ticks": ""
           },
           "bgcolor": "#E5ECF6",
           "caxis": {
            "gridcolor": "white",
            "linecolor": "white",
            "ticks": ""
           }
          },
          "title": {
           "x": 0.05
          },
          "xaxis": {
           "automargin": true,
           "gridcolor": "white",
           "linecolor": "white",
           "ticks": "",
           "title": {
            "standoff": 15
           },
           "zerolinecolor": "white",
           "zerolinewidth": 2
          },
          "yaxis": {
           "automargin": true,
           "gridcolor": "white",
           "linecolor": "white",
           "ticks": "",
           "title": {
            "standoff": 15
           },
           "zerolinecolor": "white",
           "zerolinewidth": 2
          }
         }
        },
        "title": {
         "text": "Optimization History Plot"
        },
        "xaxis": {
         "title": {
          "text": "Trial"
         }
        },
        "yaxis": {
         "title": {
          "text": "Objective Value"
         }
        }
       }
      }
     },
     "metadata": {},
     "output_type": "display_data"
    },
    {
     "data": {
      "application/vnd.plotly.v1+json": {
       "config": {
        "plotlyServerURL": "https://plot.ly"
       },
       "data": [
        {
         "cliponaxis": false,
         "hovertemplate": [
          "subsample (FloatDistribution): 0.04015818091966664<extra></extra>",
          "n_estimators (IntDistribution): 0.0416106951817992<extra></extra>",
          "colsample_bytree (FloatDistribution): 0.057962171582731536<extra></extra>",
          "max_depth (IntDistribution): 0.07595105928783631<extra></extra>",
          "learning_rate (FloatDistribution): 0.0780012402990574<extra></extra>",
          "gamma (FloatDistribution): 0.2019269286677698<extra></extra>",
          "reg_lambda (FloatDistribution): 0.20867779714946397<extra></extra>",
          "reg_alpha (FloatDistribution): 0.2957119269116752<extra></extra>"
         ],
         "name": "Objective Value",
         "orientation": "h",
         "text": [
          "0.04",
          "0.04",
          "0.06",
          "0.08",
          "0.08",
          "0.20",
          "0.21",
          "0.30"
         ],
         "textposition": "outside",
         "type": "bar",
         "x": [
          0.04015818091966664,
          0.0416106951817992,
          0.057962171582731536,
          0.07595105928783631,
          0.0780012402990574,
          0.2019269286677698,
          0.20867779714946397,
          0.2957119269116752
         ],
         "y": [
          "subsample",
          "n_estimators",
          "colsample_bytree",
          "max_depth",
          "learning_rate",
          "gamma",
          "reg_lambda",
          "reg_alpha"
         ]
        }
       ],
       "layout": {
        "template": {
         "data": {
          "bar": [
           {
            "error_x": {
             "color": "#2a3f5f"
            },
            "error_y": {
             "color": "#2a3f5f"
            },
            "marker": {
             "line": {
              "color": "#E5ECF6",
              "width": 0.5
             },
             "pattern": {
              "fillmode": "overlay",
              "size": 10,
              "solidity": 0.2
             }
            },
            "type": "bar"
           }
          ],
          "barpolar": [
           {
            "marker": {
             "line": {
              "color": "#E5ECF6",
              "width": 0.5
             },
             "pattern": {
              "fillmode": "overlay",
              "size": 10,
              "solidity": 0.2
             }
            },
            "type": "barpolar"
           }
          ],
          "carpet": [
           {
            "aaxis": {
             "endlinecolor": "#2a3f5f",
             "gridcolor": "white",
             "linecolor": "white",
             "minorgridcolor": "white",
             "startlinecolor": "#2a3f5f"
            },
            "baxis": {
             "endlinecolor": "#2a3f5f",
             "gridcolor": "white",
             "linecolor": "white",
             "minorgridcolor": "white",
             "startlinecolor": "#2a3f5f"
            },
            "type": "carpet"
           }
          ],
          "choropleth": [
           {
            "colorbar": {
             "outlinewidth": 0,
             "ticks": ""
            },
            "type": "choropleth"
           }
          ],
          "contour": [
           {
            "colorbar": {
             "outlinewidth": 0,
             "ticks": ""
            },
            "colorscale": [
             [
              0,
              "#0d0887"
             ],
             [
              0.1111111111111111,
              "#46039f"
             ],
             [
              0.2222222222222222,
              "#7201a8"
             ],
             [
              0.3333333333333333,
              "#9c179e"
             ],
             [
              0.4444444444444444,
              "#bd3786"
             ],
             [
              0.5555555555555556,
              "#d8576b"
             ],
             [
              0.6666666666666666,
              "#ed7953"
             ],
             [
              0.7777777777777778,
              "#fb9f3a"
             ],
             [
              0.8888888888888888,
              "#fdca26"
             ],
             [
              1,
              "#f0f921"
             ]
            ],
            "type": "contour"
           }
          ],
          "contourcarpet": [
           {
            "colorbar": {
             "outlinewidth": 0,
             "ticks": ""
            },
            "type": "contourcarpet"
           }
          ],
          "heatmap": [
           {
            "colorbar": {
             "outlinewidth": 0,
             "ticks": ""
            },
            "colorscale": [
             [
              0,
              "#0d0887"
             ],
             [
              0.1111111111111111,
              "#46039f"
             ],
             [
              0.2222222222222222,
              "#7201a8"
             ],
             [
              0.3333333333333333,
              "#9c179e"
             ],
             [
              0.4444444444444444,
              "#bd3786"
             ],
             [
              0.5555555555555556,
              "#d8576b"
             ],
             [
              0.6666666666666666,
              "#ed7953"
             ],
             [
              0.7777777777777778,
              "#fb9f3a"
             ],
             [
              0.8888888888888888,
              "#fdca26"
             ],
             [
              1,
              "#f0f921"
             ]
            ],
            "type": "heatmap"
           }
          ],
          "heatmapgl": [
           {
            "colorbar": {
             "outlinewidth": 0,
             "ticks": ""
            },
            "colorscale": [
             [
              0,
              "#0d0887"
             ],
             [
              0.1111111111111111,
              "#46039f"
             ],
             [
              0.2222222222222222,
              "#7201a8"
             ],
             [
              0.3333333333333333,
              "#9c179e"
             ],
             [
              0.4444444444444444,
              "#bd3786"
             ],
             [
              0.5555555555555556,
              "#d8576b"
             ],
             [
              0.6666666666666666,
              "#ed7953"
             ],
             [
              0.7777777777777778,
              "#fb9f3a"
             ],
             [
              0.8888888888888888,
              "#fdca26"
             ],
             [
              1,
              "#f0f921"
             ]
            ],
            "type": "heatmapgl"
           }
          ],
          "histogram": [
           {
            "marker": {
             "pattern": {
              "fillmode": "overlay",
              "size": 10,
              "solidity": 0.2
             }
            },
            "type": "histogram"
           }
          ],
          "histogram2d": [
           {
            "colorbar": {
             "outlinewidth": 0,
             "ticks": ""
            },
            "colorscale": [
             [
              0,
              "#0d0887"
             ],
             [
              0.1111111111111111,
              "#46039f"
             ],
             [
              0.2222222222222222,
              "#7201a8"
             ],
             [
              0.3333333333333333,
              "#9c179e"
             ],
             [
              0.4444444444444444,
              "#bd3786"
             ],
             [
              0.5555555555555556,
              "#d8576b"
             ],
             [
              0.6666666666666666,
              "#ed7953"
             ],
             [
              0.7777777777777778,
              "#fb9f3a"
             ],
             [
              0.8888888888888888,
              "#fdca26"
             ],
             [
              1,
              "#f0f921"
             ]
            ],
            "type": "histogram2d"
           }
          ],
          "histogram2dcontour": [
           {
            "colorbar": {
             "outlinewidth": 0,
             "ticks": ""
            },
            "colorscale": [
             [
              0,
              "#0d0887"
             ],
             [
              0.1111111111111111,
              "#46039f"
             ],
             [
              0.2222222222222222,
              "#7201a8"
             ],
             [
              0.3333333333333333,
              "#9c179e"
             ],
             [
              0.4444444444444444,
              "#bd3786"
             ],
             [
              0.5555555555555556,
              "#d8576b"
             ],
             [
              0.6666666666666666,
              "#ed7953"
             ],
             [
              0.7777777777777778,
              "#fb9f3a"
             ],
             [
              0.8888888888888888,
              "#fdca26"
             ],
             [
              1,
              "#f0f921"
             ]
            ],
            "type": "histogram2dcontour"
           }
          ],
          "mesh3d": [
           {
            "colorbar": {
             "outlinewidth": 0,
             "ticks": ""
            },
            "type": "mesh3d"
           }
          ],
          "parcoords": [
           {
            "line": {
             "colorbar": {
              "outlinewidth": 0,
              "ticks": ""
             }
            },
            "type": "parcoords"
           }
          ],
          "pie": [
           {
            "automargin": true,
            "type": "pie"
           }
          ],
          "scatter": [
           {
            "fillpattern": {
             "fillmode": "overlay",
             "size": 10,
             "solidity": 0.2
            },
            "type": "scatter"
           }
          ],
          "scatter3d": [
           {
            "line": {
             "colorbar": {
              "outlinewidth": 0,
              "ticks": ""
             }
            },
            "marker": {
             "colorbar": {
              "outlinewidth": 0,
              "ticks": ""
             }
            },
            "type": "scatter3d"
           }
          ],
          "scattercarpet": [
           {
            "marker": {
             "colorbar": {
              "outlinewidth": 0,
              "ticks": ""
             }
            },
            "type": "scattercarpet"
           }
          ],
          "scattergeo": [
           {
            "marker": {
             "colorbar": {
              "outlinewidth": 0,
              "ticks": ""
             }
            },
            "type": "scattergeo"
           }
          ],
          "scattergl": [
           {
            "marker": {
             "colorbar": {
              "outlinewidth": 0,
              "ticks": ""
             }
            },
            "type": "scattergl"
           }
          ],
          "scattermapbox": [
           {
            "marker": {
             "colorbar": {
              "outlinewidth": 0,
              "ticks": ""
             }
            },
            "type": "scattermapbox"
           }
          ],
          "scatterpolar": [
           {
            "marker": {
             "colorbar": {
              "outlinewidth": 0,
              "ticks": ""
             }
            },
            "type": "scatterpolar"
           }
          ],
          "scatterpolargl": [
           {
            "marker": {
             "colorbar": {
              "outlinewidth": 0,
              "ticks": ""
             }
            },
            "type": "scatterpolargl"
           }
          ],
          "scatterternary": [
           {
            "marker": {
             "colorbar": {
              "outlinewidth": 0,
              "ticks": ""
             }
            },
            "type": "scatterternary"
           }
          ],
          "surface": [
           {
            "colorbar": {
             "outlinewidth": 0,
             "ticks": ""
            },
            "colorscale": [
             [
              0,
              "#0d0887"
             ],
             [
              0.1111111111111111,
              "#46039f"
             ],
             [
              0.2222222222222222,
              "#7201a8"
             ],
             [
              0.3333333333333333,
              "#9c179e"
             ],
             [
              0.4444444444444444,
              "#bd3786"
             ],
             [
              0.5555555555555556,
              "#d8576b"
             ],
             [
              0.6666666666666666,
              "#ed7953"
             ],
             [
              0.7777777777777778,
              "#fb9f3a"
             ],
             [
              0.8888888888888888,
              "#fdca26"
             ],
             [
              1,
              "#f0f921"
             ]
            ],
            "type": "surface"
           }
          ],
          "table": [
           {
            "cells": {
             "fill": {
              "color": "#EBF0F8"
             },
             "line": {
              "color": "white"
             }
            },
            "header": {
             "fill": {
              "color": "#C8D4E3"
             },
             "line": {
              "color": "white"
             }
            },
            "type": "table"
           }
          ]
         },
         "layout": {
          "annotationdefaults": {
           "arrowcolor": "#2a3f5f",
           "arrowhead": 0,
           "arrowwidth": 1
          },
          "autotypenumbers": "strict",
          "coloraxis": {
           "colorbar": {
            "outlinewidth": 0,
            "ticks": ""
           }
          },
          "colorscale": {
           "diverging": [
            [
             0,
             "#8e0152"
            ],
            [
             0.1,
             "#c51b7d"
            ],
            [
             0.2,
             "#de77ae"
            ],
            [
             0.3,
             "#f1b6da"
            ],
            [
             0.4,
             "#fde0ef"
            ],
            [
             0.5,
             "#f7f7f7"
            ],
            [
             0.6,
             "#e6f5d0"
            ],
            [
             0.7,
             "#b8e186"
            ],
            [
             0.8,
             "#7fbc41"
            ],
            [
             0.9,
             "#4d9221"
            ],
            [
             1,
             "#276419"
            ]
           ],
           "sequential": [
            [
             0,
             "#0d0887"
            ],
            [
             0.1111111111111111,
             "#46039f"
            ],
            [
             0.2222222222222222,
             "#7201a8"
            ],
            [
             0.3333333333333333,
             "#9c179e"
            ],
            [
             0.4444444444444444,
             "#bd3786"
            ],
            [
             0.5555555555555556,
             "#d8576b"
            ],
            [
             0.6666666666666666,
             "#ed7953"
            ],
            [
             0.7777777777777778,
             "#fb9f3a"
            ],
            [
             0.8888888888888888,
             "#fdca26"
            ],
            [
             1,
             "#f0f921"
            ]
           ],
           "sequentialminus": [
            [
             0,
             "#0d0887"
            ],
            [
             0.1111111111111111,
             "#46039f"
            ],
            [
             0.2222222222222222,
             "#7201a8"
            ],
            [
             0.3333333333333333,
             "#9c179e"
            ],
            [
             0.4444444444444444,
             "#bd3786"
            ],
            [
             0.5555555555555556,
             "#d8576b"
            ],
            [
             0.6666666666666666,
             "#ed7953"
            ],
            [
             0.7777777777777778,
             "#fb9f3a"
            ],
            [
             0.8888888888888888,
             "#fdca26"
            ],
            [
             1,
             "#f0f921"
            ]
           ]
          },
          "colorway": [
           "#636efa",
           "#EF553B",
           "#00cc96",
           "#ab63fa",
           "#FFA15A",
           "#19d3f3",
           "#FF6692",
           "#B6E880",
           "#FF97FF",
           "#FECB52"
          ],
          "font": {
           "color": "#2a3f5f"
          },
          "geo": {
           "bgcolor": "white",
           "lakecolor": "white",
           "landcolor": "#E5ECF6",
           "showlakes": true,
           "showland": true,
           "subunitcolor": "white"
          },
          "hoverlabel": {
           "align": "left"
          },
          "hovermode": "closest",
          "mapbox": {
           "style": "light"
          },
          "paper_bgcolor": "white",
          "plot_bgcolor": "#E5ECF6",
          "polar": {
           "angularaxis": {
            "gridcolor": "white",
            "linecolor": "white",
            "ticks": ""
           },
           "bgcolor": "#E5ECF6",
           "radialaxis": {
            "gridcolor": "white",
            "linecolor": "white",
            "ticks": ""
           }
          },
          "scene": {
           "xaxis": {
            "backgroundcolor": "#E5ECF6",
            "gridcolor": "white",
            "gridwidth": 2,
            "linecolor": "white",
            "showbackground": true,
            "ticks": "",
            "zerolinecolor": "white"
           },
           "yaxis": {
            "backgroundcolor": "#E5ECF6",
            "gridcolor": "white",
            "gridwidth": 2,
            "linecolor": "white",
            "showbackground": true,
            "ticks": "",
            "zerolinecolor": "white"
           },
           "zaxis": {
            "backgroundcolor": "#E5ECF6",
            "gridcolor": "white",
            "gridwidth": 2,
            "linecolor": "white",
            "showbackground": true,
            "ticks": "",
            "zerolinecolor": "white"
           }
          },
          "shapedefaults": {
           "line": {
            "color": "#2a3f5f"
           }
          },
          "ternary": {
           "aaxis": {
            "gridcolor": "white",
            "linecolor": "white",
            "ticks": ""
           },
           "baxis": {
            "gridcolor": "white",
            "linecolor": "white",
            "ticks": ""
           },
           "bgcolor": "#E5ECF6",
           "caxis": {
            "gridcolor": "white",
            "linecolor": "white",
            "ticks": ""
           }
          },
          "title": {
           "x": 0.05
          },
          "xaxis": {
           "automargin": true,
           "gridcolor": "white",
           "linecolor": "white",
           "ticks": "",
           "title": {
            "standoff": 15
           },
           "zerolinecolor": "white",
           "zerolinewidth": 2
          },
          "yaxis": {
           "automargin": true,
           "gridcolor": "white",
           "linecolor": "white",
           "ticks": "",
           "title": {
            "standoff": 15
           },
           "zerolinecolor": "white",
           "zerolinewidth": 2
          }
         }
        },
        "title": {
         "text": "Hyperparameter Importances"
        },
        "xaxis": {
         "title": {
          "text": "Hyperparameter Importance"
         }
        },
        "yaxis": {
         "title": {
          "text": "Hyperparameter"
         }
        }
       }
      }
     },
     "metadata": {},
     "output_type": "display_data"
    }
   ],
   "source": [
    "#Let's try HyperparamOptimization with Optuna\n",
    "import optuna\n",
    "from sklearn.model_selection import cross_val_score\n",
    "\n",
    "# Define the objective function\n",
    "def objective(trial):\n",
    "    n_estimators = trial.suggest_int('n_estimators', 100, 1000, step=50)\n",
    "    max_depth = trial.suggest_int('max_depth', 3, 10)\n",
    "    learning_rate = trial.suggest_float('learning_rate', 0.01, 0.3)\n",
    "    subsample = trial.suggest_float('subsample', 0.5, 1.0)\n",
    "    colsample_bytree = trial.suggest_float('colsample_bytree', 0.5, 1.0)\n",
    "    gamma = trial.suggest_float('gamma', 0, 5)\n",
    "    reg_alpha = trial.suggest_float('reg_alpha', 0, 10)\n",
    "    reg_lambda = trial.suggest_float('reg_lambda', 0, 10)\n",
    "\n",
    "    clf = XGBClassifier(\n",
    "        n_estimators=n_estimators,\n",
    "        max_depth=max_depth,\n",
    "        learning_rate=learning_rate,\n",
    "        subsample=subsample,\n",
    "        colsample_bytree=colsample_bytree,\n",
    "        gamma=gamma,\n",
    "        reg_alpha=reg_alpha,\n",
    "        reg_lambda=reg_lambda,\n",
    "        eval_metric = 'logloss')\n",
    "    return cross_val_score(clf, X, y, cv=5).mean()\n",
    "\n",
    "# Run the optimization\n",
    "study = optuna.create_study(direction='maximize')\n",
    "study.optimize(objective, n_trials=25)\n",
    "\n",
    "print(\"Best parameters:\", study.best_params)\n",
    "print(\"Best accuracy:\", study.best_value)\n",
    "\n",
    "# Visualization\n",
    "optuna.visualization.plot_optimization_history(study).show()\n",
    "optuna.visualization.plot_param_importances(study).show()\n"
   ]
  },
  {
   "cell_type": "code",
   "execution_count": 12,
   "id": "965af078",
   "metadata": {},
   "outputs": [],
   "source": [
    "#!pip install optuna"
   ]
  },
  {
   "cell_type": "code",
   "execution_count": 13,
   "id": "88350745-377f-402c-bf65-b6ac7d18c59e",
   "metadata": {},
   "outputs": [
    {
     "name": "stdout",
     "output_type": "stream",
     "text": [
      " 94%|█████████▍| 94/100 [00:26<00:01,  3.48trial/s, best loss: -0.8451384093904967]\n",
      "Best parameters: {'colsample_bytree': 0.923443106131321, 'gamma': 0.8084824521606915, 'learning_rate': 0.23446866003248415, 'max_depth': 5, 'n_estimators': 150, 'reg_alpha': 0.4518808253700202, 'reg_lambda': 4.546341774936819, 'subsample': 0.6130960711365323}\n"
     ]
    }
   ],
   "source": [
    "#Let's try hyperopt\n",
    "from hyperopt import fmin, tpe, hp, Trials\n",
    "from hyperopt.pyll.base import scope\n",
    "from hyperopt.early_stop import no_progress_loss\n",
    "\n",
    "# Define the objective function\n",
    "def objective(params):\n",
    "    clf = XGBClassifier(**params)\n",
    "    accuracy = cross_val_score(clf, X, y, cv=5).mean()\n",
    "    return -accuracy  # Minimize negative accuracy\n",
    "\n",
    "# Define the search space\n",
    "space = {\n",
    "    'n_estimators': scope.int(hp.quniform('n_estimators', 100, 1000, 50)),\n",
    "    'max_depth': scope.int(hp.quniform('max_depth', 3, 10, 1)),\n",
    "    'learning_rate': hp.uniform('learning_rate', 0.01, 0.3),\n",
    "    'subsample': hp.uniform('subsample', 0.5, 1.0),\n",
    "    'colsample_bytree': hp.uniform('colsample_bytree', 0.5, 1.0),\n",
    "    'gamma': hp.uniform('gamma', 0, 5),\n",
    "    'reg_alpha': hp.uniform('reg_alpha', 0, 10),\n",
    "    'reg_lambda': hp.uniform('reg_lambda', 0, 10),\n",
    "}\n",
    "\n",
    "# Run the optimization\n",
    "trials = Trials()\n",
    "best = fmin(fn=objective,\n",
    "            space=space,\n",
    "            algo=tpe.suggest,\n",
    "            max_evals=100,\n",
    "            trials=trials,\n",
    "            early_stop_fn=no_progress_loss(50))\n",
    "best['n_estimators'] = int(best['n_estimators'])\n",
    "best['max_depth'] = int(best['max_depth'])\n",
    "print(\"Best parameters:\", best)\n"
   ]
  },
  {
   "cell_type": "code",
   "execution_count": 14,
   "id": "086f7ab1",
   "metadata": {},
   "outputs": [],
   "source": [
    "#!pip install hyperopt"
   ]
  },
  {
   "cell_type": "code",
   "execution_count": 15,
   "id": "17f4c598",
   "metadata": {},
   "outputs": [
    {
     "data": {
      "text/plain": [
       "{'colsample_bytree': 0.923443106131321,\n",
       " 'gamma': 0.8084824521606915,\n",
       " 'learning_rate': 0.23446866003248415,\n",
       " 'max_depth': 5,\n",
       " 'n_estimators': 150,\n",
       " 'reg_alpha': 0.4518808253700202,\n",
       " 'reg_lambda': 4.546341774936819,\n",
       " 'subsample': 0.6130960711365323}"
      ]
     },
     "execution_count": 15,
     "metadata": {},
     "output_type": "execute_result"
    }
   ],
   "source": [
    "#Good exercise with hyperopt and optuna that are hyperparam opt that use differant search algorithms to find the best params in the dedicated space\n",
    "dump_json(best,os.path.join(project_root,config[\"xgb_params\"]))"
   ]
  },
  {
   "cell_type": "code",
   "execution_count": 16,
   "id": "49b1e6d3",
   "metadata": {},
   "outputs": [
    {
     "name": "stdout",
     "output_type": "stream",
     "text": [
      "Fold 1:\n",
      "Accuracy Best XGBoost = 0.84\n",
      "----------\n",
      "Fold 2:\n",
      "Accuracy Best XGBoost = 0.86\n",
      "----------\n",
      "Fold 3:\n",
      "Accuracy Best XGBoost = 0.83\n",
      "----------\n",
      "Fold 4:\n",
      "Accuracy Best XGBoost = 0.82\n",
      "----------\n",
      "Fold 5:\n",
      "Accuracy Best XGBoost = 0.85\n",
      "--------------------\n",
      "Mean Accuracy Best XGBoost: 0.84\n"
     ]
    },
    {
     "data": {
      "text/plain": [
       "['/Users/aboubakr/ML-100-Projects/beginner/p2_TitanicSurvival/models/xgb.pkl']"
      ]
     },
     "execution_count": 16,
     "metadata": {},
     "output_type": "execute_result"
    }
   ],
   "source": [
    "best_xgb = XGBClassifier(**best)\n",
    "accuracy_scores_best_xgb = []\n",
    "# Perform Stratified K-Fold Cross-Validation\n",
    "for train_index, test_index in skf.split(X, y):\n",
    "    X_train, X_test = X.iloc[train_index], X.iloc[test_index]\n",
    "    y_train, y_test = y.iloc[train_index], y.iloc[test_index]\n",
    "    # Train the model\n",
    "    best_xgb.fit(X_train, y_train)\n",
    "\n",
    "    # Make predictions\n",
    "    y_pred_best_xgb = best_xgb.predict(X_test)\n",
    "    \n",
    "    # Calculate accuracy for the current fold\n",
    "    accuracy_best_xgb = accuracy_score(y_test, y_pred_best_xgb)\n",
    "\n",
    "    accuracy_scores_best_xgb.append(accuracy_best_xgb)\n",
    "# Print accuracy for each fold\n",
    "for i in range(n_splits):\n",
    "    print(f\"Fold {i+1}:\")\n",
    "    print(f\"Accuracy Best XGBoost = {accuracy_scores_best_xgb[i]:.2f}\")\n",
    "    if i < 4 : print(\"-\"*10)\n",
    "    else : print(\"-\"*20)\n",
    "\n",
    "# Print mean accuracy across all folds\n",
    "print(f\"Mean Accuracy Best XGBoost: {np.mean(accuracy_scores_best_xgb):.2f}\")\n",
    "\n",
    "#Le cout n'en vaut peut à pas la peine mais pour l'exercice on va garder ce best_xgb pour notre model pipeline\n",
    "xgb_filepath = os.path.join(project_root, config['xgb_save_path'])\n",
    "dump(best_xgb,xgb_filepath)"
   ]
  }
 ],
 "metadata": {
  "kernelspec": {
   "display_name": "Python 3 (ipykernel)",
   "language": "python",
   "name": "python3"
  },
  "language_info": {
   "codemirror_mode": {
    "name": "ipython",
    "version": 3
   },
   "file_extension": ".py",
   "mimetype": "text/x-python",
   "name": "python",
   "nbconvert_exporter": "python",
   "pygments_lexer": "ipython3",
   "version": "3.11.5"
  }
 },
 "nbformat": 4,
 "nbformat_minor": 5
}
