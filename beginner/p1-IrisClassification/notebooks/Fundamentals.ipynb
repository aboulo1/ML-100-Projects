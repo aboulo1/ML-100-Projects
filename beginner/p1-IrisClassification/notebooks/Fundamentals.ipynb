{
 "cells": [
  {
   "cell_type": "markdown",
   "id": "abbea67d-279a-4e66-a2a9-b75f6a4e4d1c",
   "metadata": {},
   "source": [
    "# What is the purpose of cross-validation and how does it prevent overfitting?\n",
    "\n",
    "Cross validation is a method that help us estimate the accuracy of predictive model.\n",
    "When training a machine learning or deep learning model we have to make sure that the model will work with a high precision in production.\n",
    "In that said environnement, the model will see observations and data he has probably never seen and still has to be quite precise on.\n",
    "Meaning that the model has to be well adjusted.\n",
    "\n",
    "To enforce that adjustement we use cross validation to split or resample our dataset and set a partir some testing data that our model will not see during its training. When the training is done we can use the portion of data that was set aside to evaluate our model and even compare it with other models to select the best performing one.\n",
    "\n",
    "It also helps prevent overfitting, which means that our model is too adjusted to our training data that it cannot predict anything else. Therefore cross validation will always help us control overfitting and detect the balance between high accuracy on training data vs low accuracy on testing (unseen) data."
   ]
  },
  {
   "cell_type": "markdown",
   "id": "645949dd-ac5d-4e90-b1a7-b98b2229d05f",
   "metadata": {},
   "source": [
    "# Explain the bias-variance tradeoff in simple terms. How does it affect model performance\n",
    "\n",
    "The bias-variance tradeoff is about balancing simplicity and complexity in machine learning.\n",
    "A high bias means that the model is too simple and will consistently miss the target values. This causes model to miss relevant relations between features and target.\n",
    "A high variance means the model is too complex and can cause a lot off unstability because our model is to sensitive to small fluctuations of values. PS: it's not because the model is complex that it needs to have a high variance.\n",
    "\n",
    "This tradeoff seeks to minimize both error sources that prevent a machine learning model to be generalized over the training set.\n",
    "The ideal is to train a model that both captures the regularities in the training set but also generalizes well to unseen data.\n",
    "Hence a accurate model on training set and precise model on testing, unseen, set\n",
    "\n",
    "see : https://en.wikipedia.org/wiki/Bias%E2%80%93variance_tradeoff\n",
    "\n",
    "If a model underfits which is likely a low bias (it captured the training set) but high variance because the test set is likely different from the train\n",
    "If a model overfits which means that it is too accustomed to the training set, it'll have a a lower variance because it spectrum is reduced to the training set but will have a high bias because it'll most likely having wrong on unseen a new data points."
   ]
  },
  {
   "cell_type": "markdown",
   "id": "ff549f70-349f-47b6-a532-8bfa26d619f1",
   "metadata": {},
   "source": [
    "# What are precision and recall, and how do they differ? Why are they important in classification tasks?\n",
    "\n",
    "recall is the capacity of a classification model to evaluate true positive which means a high tp and a low fn recall = tp / (tp + fn) (binary classification)\n",
    "precision is the capacity of the model to evaluate positives which a high tp and a low fp precision = tp / (tp+fp) (binary classification)\n",
    "\n",
    "For high precision and high recall a model has to be able to lower fn and fp which means that it really grabbed the relationships between features and target.\n",
    "\n",
    "The ratio of these two metrics gives you the f1 score which is also the harmonic mean between the two (2 / (1/precision + 1/recall)\n",
    "\n",
    "These metrics are important in classification tasks because there combination gives you are good idea of how well your model is performing on false negatives and false positives which is really key to balance the straight forward accuracy and we keep a close eye on them specially if we have an imbalanced dataset"
   ]
  },
  {
   "cell_type": "markdown",
   "id": "6dd1c983-0ee9-4f17-bbd3-8faba2fc9d03",
   "metadata": {},
   "source": [
    "# How does a decision boundary work in a classification model?\n",
    "![DecisionBoundary](https://www.researchgate.net/publication/349186066/figure/fig1/AS:989978611953666@1613040702298/Example-of-overfitting-in-classification-a-Decision-boundary-that-best-fits-training.png)\n",
    "\n",
    "The decision is the hypersurface (approx set of hyperplanes) that split the entire training vector space in different sets of class.\n",
    "That means that around the boundary the classifier is ambiguous.\n",
    "\n",
    "In case of linear problem, the boundary is an hyperplan.\n",
    "see \n",
    "<a href = \"https://en.wikipedia.org/wiki/Decision_boundary#:~:text=A%20decision%20boundary%20is%20the,the%20classes%20are%20linearly%20separable\"> Wikipedia article</a> \n",
    "\n",
    "The decision boundary is critical to the classification because it is where the algorithm switches from 1 class to the other.\n",
    "Examining decision boundaries is a great way to learn how the training data we select affects performance and the ability for our model to generalize.\n",
    "Visualization of decision boundaries can illustrate how sensitive models are to each dataset, which is a great way to understand how specific algorithms work, and their limitations for specific datasets.\n",
    "Examples : \n",
    "![LogisticRegression](https://miro.medium.com/v2/resize:fit:720/format:webp/0*qJlZO-eVvJDCiOHk)\n",
    "![RandomForest](https://miro.medium.com/v2/resize:fit:720/format:webp/0*78n5Dex_lQUjmaND)\n",
    "\n",
    "<a href=\"https://medium.com/analytics-vidhya/decision-boundary-for-classifiers-an-introduction-cc67c6d3da0e\">Further examples and code in medium article</a>"
   ]
  },
  {
   "cell_type": "markdown",
   "id": "6b327a96-f03d-4a9d-aea6-20874983e873",
   "metadata": {},
   "source": [
    "# What are some potential evaluation metrics you could use for this classification problem?\n",
    "\n",
    "You could use the accuracy combined with precision and recall => which is the f1 score\n",
    "You can survey the area under the ROC curve , accuracy, confusion matrix etc."
   ]
  },
  {
   "attachments": {},
   "cell_type": "markdown",
   "id": "8eac095f-ddf4-41bb-8644-cfa744c36ee5",
   "metadata": {},
   "source": [
    "# SOME MORE LEARNINGS\n",
    "## FAST API\n",
    "Based ond OpenAPI and JSON Schema\n",
    "### OPEN API\n",
    "The OpenAPI Specification (OAS) defines a standard, programming language-agnostic interface description for HTTP APIs.This allows both humans and computers to discover and understand the capabilities of a service without requiring access to source code, additional documentation, or inspection of network traffic. When properly defined via OpenAPI, a consumer can understand and interact with the remote service with a minimal amount of implementation logic. Similar to what interface descriptions have done for lower-level programming, the OpenAPI Specification removes guesswork in calling a service.\n",
    "### CLI App\n",
    "Command Line Interface App\n",
    "### FastAPI and Starlette\n",
    "FastAPI uses Starlette under the hood for several key functionalities, such as routing, request handling, and middleware.\n",
    "You don’t need to interact with Starlette directly when using FastAPI for most common use cases.\n",
    "### Basics\n",
    "\n",
    "Import FastAPI.\n",
    "Create an app instance.\n",
    "Write a path operation decorator using decorators like @app.get(\"/\").\n",
    "Define a path operation function; for example, def root(): ....\n",
    "Run the development server using the command fastapi dev.\n",
    "\n",
    "### ENUMS\n",
    "In FastAPI, you might use such an enum to restrict the values of a query parameter or path parameter:\n",
    "\n",
    "class ModelName(str, Enum):\n",
    "    alexnet = \"alexnet\"\n",
    "    resnet = \"resnet\"\n",
    "    lenet = \"lenet\"\n",
    "## Command\n",
    "uvicorn app:app --reload => is env and prod favorite ( app:app refers to the app object in app.py file. )\n",
    "fastapi dev app.py => play with swagger locally \n",
    "## Deploy with FastAPI and docker\n",
    "Docker Desktop — build and run Docker container images on your local machine or transfer to the cloud. \n",
    "Containers are an isolated environment to run any code.\n",
    "\n"
   ]
  }
 ],
 "metadata": {
  "kernelspec": {
   "display_name": "Python 3 (ipykernel)",
   "language": "python",
   "name": "python3"
  },
  "language_info": {
   "codemirror_mode": {
    "name": "ipython",
    "version": 3
   },
   "file_extension": ".py",
   "mimetype": "text/x-python",
   "name": "python",
   "nbconvert_exporter": "python",
   "pygments_lexer": "ipython3",
   "version": "3.11.5"
  }
 },
 "nbformat": 4,
 "nbformat_minor": 5
}
